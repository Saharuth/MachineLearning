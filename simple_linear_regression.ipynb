{
  "nbformat": 4,
  "nbformat_minor": 0,
  "metadata": {
    "colab": {
      "provenance": [],
      "gpuType": "T4",
      "authorship_tag": "ABX9TyPJQWWL54NQ8Vr10cEHJcdP",
      "include_colab_link": true
    },
    "kernelspec": {
      "name": "python3",
      "display_name": "Python 3"
    },
    "language_info": {
      "name": "python"
    },
    "accelerator": "GPU"
  },
  "cells": [
    {
      "cell_type": "markdown",
      "metadata": {
        "id": "view-in-github",
        "colab_type": "text"
      },
      "source": [
        "<a href=\"https://colab.research.google.com/github/Saharuth/MachineLearning/blob/main/simple_linear_regression.ipynb\" target=\"_parent\"><img src=\"https://colab.research.google.com/assets/colab-badge.svg\" alt=\"Open In Colab\"/></a>"
      ]
    },
    {
      "cell_type": "code",
      "execution_count": null,
      "metadata": {
        "id": "q8JFH8alQtLG"
      },
      "outputs": [],
      "source": [
        "import pandas as pd\n",
        "import seaborn as sns\n",
        "import numpy as np\n",
        "import matplotlib.pyplot as plt\n",
        "%matplotlib inline\n",
        "%config InlineBackend.figure_format = 'retina'"
      ]
    },
    {
      "cell_type": "code",
      "source": [
        "print(f'pandas version: {pd.__version__}')\n",
        "print(f'numpy version: {np.__version__}')\n",
        "print(f'seaborn version: {sns.__version__}')"
      ],
      "metadata": {
        "colab": {
          "base_uri": "https://localhost:8080/"
        },
        "id": "rwfXMy6XR74w",
        "outputId": "69c0caa4-afac-4aed-a4ac-ebfed2006822"
      },
      "execution_count": null,
      "outputs": [
        {
          "output_type": "stream",
          "name": "stdout",
          "text": [
            "pandas version: 1.5.3\n",
            "numpy version: 1.23.5\n",
            "seaborn version: 0.12.2\n"
          ]
        }
      ]
    },
    {
      "cell_type": "code",
      "source": [
        "url = 'https://github.com/Saharuth/MachineLearning/raw/main/big%20mac.csv'\n",
        "df = pd.read_csv(url, parse_dates=['date'])\n",
        "df.head()"
      ],
      "metadata": {
        "id": "43YF2GUvSQ5o"
      },
      "execution_count": null,
      "outputs": []
    },
    {
      "cell_type": "code",
      "source": [
        "df.info()"
      ],
      "metadata": {
        "colab": {
          "base_uri": "https://localhost:8080/"
        },
        "id": "y6_dlPJGVcy2",
        "outputId": "3d5f4e9b-fcbe-4220-996c-bd9c5ddf9259"
      },
      "execution_count": null,
      "outputs": [
        {
          "output_type": "stream",
          "name": "stdout",
          "text": [
            "<class 'pandas.core.frame.DataFrame'>\n",
            "RangeIndex: 1386 entries, 0 to 1385\n",
            "Data columns (total 19 columns):\n",
            " #   Column         Non-Null Count  Dtype         \n",
            "---  ------         --------------  -----         \n",
            " 0   date           1386 non-null   datetime64[ns]\n",
            " 1   iso_a3         1386 non-null   object        \n",
            " 2   currency_code  1386 non-null   object        \n",
            " 3   name           1386 non-null   object        \n",
            " 4   local_price    1386 non-null   float64       \n",
            " 5   dollar_ex      1386 non-null   float64       \n",
            " 6   dollar_price   1386 non-null   float64       \n",
            " 7   USD_raw        1386 non-null   float64       \n",
            " 8   EUR_raw        1386 non-null   float64       \n",
            " 9   GBP_raw        1386 non-null   float64       \n",
            " 10  JPY_raw        1386 non-null   float64       \n",
            " 11  CNY_raw        1386 non-null   float64       \n",
            " 12  GDP_dollar     702 non-null    float64       \n",
            " 13  adj_price      702 non-null    float64       \n",
            " 14  USD_adjusted   702 non-null    float64       \n",
            " 15  EUR_adjusted   702 non-null    float64       \n",
            " 16  GBP_adjusted   702 non-null    float64       \n",
            " 17  JPY_adjusted   702 non-null    float64       \n",
            " 18  CNY_adjusted   702 non-null    float64       \n",
            "dtypes: datetime64[ns](1), float64(15), object(3)\n",
            "memory usage: 205.9+ KB\n"
          ]
        }
      ]
    },
    {
      "cell_type": "code",
      "source": [
        "# กรองข้อมูล เฉพาะ ปี 2019 และเดือนมกราคม\n",
        "df = df[(df['date'].dt.year == 2019) & (df['date'].dt.month == 1) & (df['GDP_dollar'].notnull())]\n",
        "df.head()"
      ],
      "metadata": {
        "colab": {
          "base_uri": "https://localhost:8080/",
          "height": 206
        },
        "id": "aQPt2SwbVhfj",
        "outputId": "2a9c1dde-8707-4930-a2cc-b84620fb7e9b"
      },
      "execution_count": null,
      "outputs": [
        {
          "output_type": "execute_result",
          "data": {
            "text/plain": [
              "           date iso_a3 currency_code         name  local_price  dollar_ex  \\\n",
              "1163 2019-01-01    ARG           ARS    Argentina        75.00   37.45500   \n",
              "1164 2019-01-01    AUS           AUD    Australia         6.10    1.40164   \n",
              "1167 2019-01-01    BRA           BRL       Brazil        16.90    3.71795   \n",
              "1168 2019-01-01    CAN           CAD       Canada         6.77    1.33140   \n",
              "1169 2019-01-01    CHE           CHF  Switzerland         6.50    0.98165   \n",
              "\n",
              "      dollar_price  USD_raw  EUR_raw  GBP_raw  JPY_raw  CNY_raw  GDP_dollar  \\\n",
              "1163      2.002403 -0.64115 -0.56862 -0.50837 -0.44323 -0.34374   14462.920   \n",
              "1164      4.352045 -0.22006 -0.06244  0.06851  0.21009  0.42633   55692.730   \n",
              "1167      4.545516 -0.18539 -0.02077  0.11601  0.26389  0.48973    9895.765   \n",
              "1168      5.084873 -0.08873  0.09543  0.24844  0.41386  0.66650   45094.605   \n",
              "1169      6.621505  0.18665  0.42646  0.62571  0.84112  1.17011   80637.381   \n",
              "\n",
              "      adj_price  USD_adjusted  EUR_adjusted  GBP_adjusted  JPY_adjusted  \\\n",
              "1163   3.165211        -0.419        -0.434        -0.338        -0.261   \n",
              "1164   4.945273        -0.192        -0.213        -0.080         0.028   \n",
              "1167   2.968028         0.406         0.370         0.601         0.789   \n",
              "1168   4.487708         0.040         0.013         0.185         0.323   \n",
              "1169   6.022237         0.009        -0.017         0.150         0.284   \n",
              "\n",
              "      CNY_adjusted  \n",
              "1163        -0.396  \n",
              "1164        -0.160  \n",
              "1167         0.463  \n",
              "1168         0.082  \n",
              "1169         0.050  "
            ],
            "text/html": [
              "\n",
              "  <div id=\"df-39938d65-b4d7-46b6-913e-68f129a0e45d\" class=\"colab-df-container\">\n",
              "    <div>\n",
              "<style scoped>\n",
              "    .dataframe tbody tr th:only-of-type {\n",
              "        vertical-align: middle;\n",
              "    }\n",
              "\n",
              "    .dataframe tbody tr th {\n",
              "        vertical-align: top;\n",
              "    }\n",
              "\n",
              "    .dataframe thead th {\n",
              "        text-align: right;\n",
              "    }\n",
              "</style>\n",
              "<table border=\"1\" class=\"dataframe\">\n",
              "  <thead>\n",
              "    <tr style=\"text-align: right;\">\n",
              "      <th></th>\n",
              "      <th>date</th>\n",
              "      <th>iso_a3</th>\n",
              "      <th>currency_code</th>\n",
              "      <th>name</th>\n",
              "      <th>local_price</th>\n",
              "      <th>dollar_ex</th>\n",
              "      <th>dollar_price</th>\n",
              "      <th>USD_raw</th>\n",
              "      <th>EUR_raw</th>\n",
              "      <th>GBP_raw</th>\n",
              "      <th>JPY_raw</th>\n",
              "      <th>CNY_raw</th>\n",
              "      <th>GDP_dollar</th>\n",
              "      <th>adj_price</th>\n",
              "      <th>USD_adjusted</th>\n",
              "      <th>EUR_adjusted</th>\n",
              "      <th>GBP_adjusted</th>\n",
              "      <th>JPY_adjusted</th>\n",
              "      <th>CNY_adjusted</th>\n",
              "    </tr>\n",
              "  </thead>\n",
              "  <tbody>\n",
              "    <tr>\n",
              "      <th>1163</th>\n",
              "      <td>2019-01-01</td>\n",
              "      <td>ARG</td>\n",
              "      <td>ARS</td>\n",
              "      <td>Argentina</td>\n",
              "      <td>75.00</td>\n",
              "      <td>37.45500</td>\n",
              "      <td>2.002403</td>\n",
              "      <td>-0.64115</td>\n",
              "      <td>-0.56862</td>\n",
              "      <td>-0.50837</td>\n",
              "      <td>-0.44323</td>\n",
              "      <td>-0.34374</td>\n",
              "      <td>14462.920</td>\n",
              "      <td>3.165211</td>\n",
              "      <td>-0.419</td>\n",
              "      <td>-0.434</td>\n",
              "      <td>-0.338</td>\n",
              "      <td>-0.261</td>\n",
              "      <td>-0.396</td>\n",
              "    </tr>\n",
              "    <tr>\n",
              "      <th>1164</th>\n",
              "      <td>2019-01-01</td>\n",
              "      <td>AUS</td>\n",
              "      <td>AUD</td>\n",
              "      <td>Australia</td>\n",
              "      <td>6.10</td>\n",
              "      <td>1.40164</td>\n",
              "      <td>4.352045</td>\n",
              "      <td>-0.22006</td>\n",
              "      <td>-0.06244</td>\n",
              "      <td>0.06851</td>\n",
              "      <td>0.21009</td>\n",
              "      <td>0.42633</td>\n",
              "      <td>55692.730</td>\n",
              "      <td>4.945273</td>\n",
              "      <td>-0.192</td>\n",
              "      <td>-0.213</td>\n",
              "      <td>-0.080</td>\n",
              "      <td>0.028</td>\n",
              "      <td>-0.160</td>\n",
              "    </tr>\n",
              "    <tr>\n",
              "      <th>1167</th>\n",
              "      <td>2019-01-01</td>\n",
              "      <td>BRA</td>\n",
              "      <td>BRL</td>\n",
              "      <td>Brazil</td>\n",
              "      <td>16.90</td>\n",
              "      <td>3.71795</td>\n",
              "      <td>4.545516</td>\n",
              "      <td>-0.18539</td>\n",
              "      <td>-0.02077</td>\n",
              "      <td>0.11601</td>\n",
              "      <td>0.26389</td>\n",
              "      <td>0.48973</td>\n",
              "      <td>9895.765</td>\n",
              "      <td>2.968028</td>\n",
              "      <td>0.406</td>\n",
              "      <td>0.370</td>\n",
              "      <td>0.601</td>\n",
              "      <td>0.789</td>\n",
              "      <td>0.463</td>\n",
              "    </tr>\n",
              "    <tr>\n",
              "      <th>1168</th>\n",
              "      <td>2019-01-01</td>\n",
              "      <td>CAN</td>\n",
              "      <td>CAD</td>\n",
              "      <td>Canada</td>\n",
              "      <td>6.77</td>\n",
              "      <td>1.33140</td>\n",
              "      <td>5.084873</td>\n",
              "      <td>-0.08873</td>\n",
              "      <td>0.09543</td>\n",
              "      <td>0.24844</td>\n",
              "      <td>0.41386</td>\n",
              "      <td>0.66650</td>\n",
              "      <td>45094.605</td>\n",
              "      <td>4.487708</td>\n",
              "      <td>0.040</td>\n",
              "      <td>0.013</td>\n",
              "      <td>0.185</td>\n",
              "      <td>0.323</td>\n",
              "      <td>0.082</td>\n",
              "    </tr>\n",
              "    <tr>\n",
              "      <th>1169</th>\n",
              "      <td>2019-01-01</td>\n",
              "      <td>CHE</td>\n",
              "      <td>CHF</td>\n",
              "      <td>Switzerland</td>\n",
              "      <td>6.50</td>\n",
              "      <td>0.98165</td>\n",
              "      <td>6.621505</td>\n",
              "      <td>0.18665</td>\n",
              "      <td>0.42646</td>\n",
              "      <td>0.62571</td>\n",
              "      <td>0.84112</td>\n",
              "      <td>1.17011</td>\n",
              "      <td>80637.381</td>\n",
              "      <td>6.022237</td>\n",
              "      <td>0.009</td>\n",
              "      <td>-0.017</td>\n",
              "      <td>0.150</td>\n",
              "      <td>0.284</td>\n",
              "      <td>0.050</td>\n",
              "    </tr>\n",
              "  </tbody>\n",
              "</table>\n",
              "</div>\n",
              "    <div class=\"colab-df-buttons\">\n",
              "\n",
              "  <div class=\"colab-df-container\">\n",
              "    <button class=\"colab-df-convert\" onclick=\"convertToInteractive('df-39938d65-b4d7-46b6-913e-68f129a0e45d')\"\n",
              "            title=\"Convert this dataframe to an interactive table.\"\n",
              "            style=\"display:none;\">\n",
              "\n",
              "  <svg xmlns=\"http://www.w3.org/2000/svg\" height=\"24px\" viewBox=\"0 -960 960 960\">\n",
              "    <path d=\"M120-120v-720h720v720H120Zm60-500h600v-160H180v160Zm220 220h160v-160H400v160Zm0 220h160v-160H400v160ZM180-400h160v-160H180v160Zm440 0h160v-160H620v160ZM180-180h160v-160H180v160Zm440 0h160v-160H620v160Z\"/>\n",
              "  </svg>\n",
              "    </button>\n",
              "\n",
              "  <style>\n",
              "    .colab-df-container {\n",
              "      display:flex;\n",
              "      gap: 12px;\n",
              "    }\n",
              "\n",
              "    .colab-df-convert {\n",
              "      background-color: #E8F0FE;\n",
              "      border: none;\n",
              "      border-radius: 50%;\n",
              "      cursor: pointer;\n",
              "      display: none;\n",
              "      fill: #1967D2;\n",
              "      height: 32px;\n",
              "      padding: 0 0 0 0;\n",
              "      width: 32px;\n",
              "    }\n",
              "\n",
              "    .colab-df-convert:hover {\n",
              "      background-color: #E2EBFA;\n",
              "      box-shadow: 0px 1px 2px rgba(60, 64, 67, 0.3), 0px 1px 3px 1px rgba(60, 64, 67, 0.15);\n",
              "      fill: #174EA6;\n",
              "    }\n",
              "\n",
              "    .colab-df-buttons div {\n",
              "      margin-bottom: 4px;\n",
              "    }\n",
              "\n",
              "    [theme=dark] .colab-df-convert {\n",
              "      background-color: #3B4455;\n",
              "      fill: #D2E3FC;\n",
              "    }\n",
              "\n",
              "    [theme=dark] .colab-df-convert:hover {\n",
              "      background-color: #434B5C;\n",
              "      box-shadow: 0px 1px 3px 1px rgba(0, 0, 0, 0.15);\n",
              "      filter: drop-shadow(0px 1px 2px rgba(0, 0, 0, 0.3));\n",
              "      fill: #FFFFFF;\n",
              "    }\n",
              "  </style>\n",
              "\n",
              "    <script>\n",
              "      const buttonEl =\n",
              "        document.querySelector('#df-39938d65-b4d7-46b6-913e-68f129a0e45d button.colab-df-convert');\n",
              "      buttonEl.style.display =\n",
              "        google.colab.kernel.accessAllowed ? 'block' : 'none';\n",
              "\n",
              "      async function convertToInteractive(key) {\n",
              "        const element = document.querySelector('#df-39938d65-b4d7-46b6-913e-68f129a0e45d');\n",
              "        const dataTable =\n",
              "          await google.colab.kernel.invokeFunction('convertToInteractive',\n",
              "                                                    [key], {});\n",
              "        if (!dataTable) return;\n",
              "\n",
              "        const docLinkHtml = 'Like what you see? Visit the ' +\n",
              "          '<a target=\"_blank\" href=https://colab.research.google.com/notebooks/data_table.ipynb>data table notebook</a>'\n",
              "          + ' to learn more about interactive tables.';\n",
              "        element.innerHTML = '';\n",
              "        dataTable['output_type'] = 'display_data';\n",
              "        await google.colab.output.renderOutput(dataTable, element);\n",
              "        const docLink = document.createElement('div');\n",
              "        docLink.innerHTML = docLinkHtml;\n",
              "        element.appendChild(docLink);\n",
              "      }\n",
              "    </script>\n",
              "  </div>\n",
              "\n",
              "\n",
              "<div id=\"df-3681ec33-6ba0-4829-8734-a2cb2e4ce750\">\n",
              "  <button class=\"colab-df-quickchart\" onclick=\"quickchart('df-3681ec33-6ba0-4829-8734-a2cb2e4ce750')\"\n",
              "            title=\"Suggest charts.\"\n",
              "            style=\"display:none;\">\n",
              "\n",
              "<svg xmlns=\"http://www.w3.org/2000/svg\" height=\"24px\"viewBox=\"0 0 24 24\"\n",
              "     width=\"24px\">\n",
              "    <g>\n",
              "        <path d=\"M19 3H5c-1.1 0-2 .9-2 2v14c0 1.1.9 2 2 2h14c1.1 0 2-.9 2-2V5c0-1.1-.9-2-2-2zM9 17H7v-7h2v7zm4 0h-2V7h2v10zm4 0h-2v-4h2v4z\"/>\n",
              "    </g>\n",
              "</svg>\n",
              "  </button>\n",
              "\n",
              "<style>\n",
              "  .colab-df-quickchart {\n",
              "      --bg-color: #E8F0FE;\n",
              "      --fill-color: #1967D2;\n",
              "      --hover-bg-color: #E2EBFA;\n",
              "      --hover-fill-color: #174EA6;\n",
              "      --disabled-fill-color: #AAA;\n",
              "      --disabled-bg-color: #DDD;\n",
              "  }\n",
              "\n",
              "  [theme=dark] .colab-df-quickchart {\n",
              "      --bg-color: #3B4455;\n",
              "      --fill-color: #D2E3FC;\n",
              "      --hover-bg-color: #434B5C;\n",
              "      --hover-fill-color: #FFFFFF;\n",
              "      --disabled-bg-color: #3B4455;\n",
              "      --disabled-fill-color: #666;\n",
              "  }\n",
              "\n",
              "  .colab-df-quickchart {\n",
              "    background-color: var(--bg-color);\n",
              "    border: none;\n",
              "    border-radius: 50%;\n",
              "    cursor: pointer;\n",
              "    display: none;\n",
              "    fill: var(--fill-color);\n",
              "    height: 32px;\n",
              "    padding: 0;\n",
              "    width: 32px;\n",
              "  }\n",
              "\n",
              "  .colab-df-quickchart:hover {\n",
              "    background-color: var(--hover-bg-color);\n",
              "    box-shadow: 0 1px 2px rgba(60, 64, 67, 0.3), 0 1px 3px 1px rgba(60, 64, 67, 0.15);\n",
              "    fill: var(--button-hover-fill-color);\n",
              "  }\n",
              "\n",
              "  .colab-df-quickchart-complete:disabled,\n",
              "  .colab-df-quickchart-complete:disabled:hover {\n",
              "    background-color: var(--disabled-bg-color);\n",
              "    fill: var(--disabled-fill-color);\n",
              "    box-shadow: none;\n",
              "  }\n",
              "\n",
              "  .colab-df-spinner {\n",
              "    border: 2px solid var(--fill-color);\n",
              "    border-color: transparent;\n",
              "    border-bottom-color: var(--fill-color);\n",
              "    animation:\n",
              "      spin 1s steps(1) infinite;\n",
              "  }\n",
              "\n",
              "  @keyframes spin {\n",
              "    0% {\n",
              "      border-color: transparent;\n",
              "      border-bottom-color: var(--fill-color);\n",
              "      border-left-color: var(--fill-color);\n",
              "    }\n",
              "    20% {\n",
              "      border-color: transparent;\n",
              "      border-left-color: var(--fill-color);\n",
              "      border-top-color: var(--fill-color);\n",
              "    }\n",
              "    30% {\n",
              "      border-color: transparent;\n",
              "      border-left-color: var(--fill-color);\n",
              "      border-top-color: var(--fill-color);\n",
              "      border-right-color: var(--fill-color);\n",
              "    }\n",
              "    40% {\n",
              "      border-color: transparent;\n",
              "      border-right-color: var(--fill-color);\n",
              "      border-top-color: var(--fill-color);\n",
              "    }\n",
              "    60% {\n",
              "      border-color: transparent;\n",
              "      border-right-color: var(--fill-color);\n",
              "    }\n",
              "    80% {\n",
              "      border-color: transparent;\n",
              "      border-right-color: var(--fill-color);\n",
              "      border-bottom-color: var(--fill-color);\n",
              "    }\n",
              "    90% {\n",
              "      border-color: transparent;\n",
              "      border-bottom-color: var(--fill-color);\n",
              "    }\n",
              "  }\n",
              "</style>\n",
              "\n",
              "  <script>\n",
              "    async function quickchart(key) {\n",
              "      const quickchartButtonEl =\n",
              "        document.querySelector('#' + key + ' button');\n",
              "      quickchartButtonEl.disabled = true;  // To prevent multiple clicks.\n",
              "      quickchartButtonEl.classList.add('colab-df-spinner');\n",
              "      try {\n",
              "        const charts = await google.colab.kernel.invokeFunction(\n",
              "            'suggestCharts', [key], {});\n",
              "      } catch (error) {\n",
              "        console.error('Error during call to suggestCharts:', error);\n",
              "      }\n",
              "      quickchartButtonEl.classList.remove('colab-df-spinner');\n",
              "      quickchartButtonEl.classList.add('colab-df-quickchart-complete');\n",
              "    }\n",
              "    (() => {\n",
              "      let quickchartButtonEl =\n",
              "        document.querySelector('#df-3681ec33-6ba0-4829-8734-a2cb2e4ce750 button');\n",
              "      quickchartButtonEl.style.display =\n",
              "        google.colab.kernel.accessAllowed ? 'block' : 'none';\n",
              "    })();\n",
              "  </script>\n",
              "</div>\n",
              "    </div>\n",
              "  </div>\n"
            ]
          },
          "metadata": {},
          "execution_count": 30
        }
      ]
    },
    {
      "cell_type": "code",
      "source": [
        "sns.lmplot(x='GDP_dollar', y='dollar_price', data=df, ci=None)"
      ],
      "metadata": {
        "colab": {
          "base_uri": "https://localhost:8080/",
          "height": 524
        },
        "id": "uia6muNsWWj4",
        "outputId": "67b2eb60-7bfb-46e3-f439-bc4db36773c1"
      },
      "execution_count": null,
      "outputs": [
        {
          "output_type": "execute_result",
          "data": {
            "text/plain": [
              "<seaborn.axisgrid.FacetGrid at 0x7c7da15fe7a0>"
            ]
          },
          "metadata": {},
          "execution_count": 31
        },
        {
          "output_type": "display_data",
          "data": {
            "text/plain": [
              "<Figure size 500x500 with 1 Axes>"
            ],
            "image/png": "[encoded data removed]"
          },
          "metadata": {
            "image/png": {
              "width": 490,
              "height": 490
            }
          }
        }
      ]
    },
    {
      "cell_type": "code",
      "source": [
        "sns.jointplot(x='GDP_dollar', y='dollar_price', data=df, kind='reg', ci=None, color='orange');"
      ],
      "metadata": {
        "colab": {
          "base_uri": "https://localhost:8080/",
          "height": 607
        },
        "id": "rz_OirjDXDv7",
        "outputId": "e4dca104-9b51-42b0-f6fe-a7df5802bb9c"
      },
      "execution_count": null,
      "outputs": [
        {
          "output_type": "display_data",
          "data": {
            "text/plain": [
              "<Figure size 600x600 with 3 Axes>"
            ],
            "image/png": "[encoded data removed]"
          },
          "metadata": {
            "image/png": {
              "width": 577,
              "height": 590
            }
          }
        }
      ]
    },
    {
      "cell_type": "markdown",
      "source": [
        "**SKLearn: LinearRegression**"
      ],
      "metadata": {
        "id": "u_A_38_WXaP4"
      }
    },
    {
      "cell_type": "code",
      "source": [
        "import sklearn\n",
        "from sklearn.linear_model import LinearRegression"
      ],
      "metadata": {
        "id": "jPFeyk8_Xkl7"
      },
      "execution_count": null,
      "outputs": []
    },
    {
      "cell_type": "code",
      "source": [
        "print(f'sklearn version: {sklearn.__version__}')"
      ],
      "metadata": {
        "colab": {
          "base_uri": "https://localhost:8080/"
        },
        "id": "6umKKvfPXuqa",
        "outputId": "fbcba06e-34ba-4ea7-8779-0873854f83b4"
      },
      "execution_count": null,
      "outputs": [
        {
          "output_type": "stream",
          "name": "stdout",
          "text": [
            "sklearn version: 1.2.2\n"
          ]
        }
      ]
    },
    {
      "cell_type": "code",
      "source": [
        "model = LinearRegression()\n",
        "print(model)"
      ],
      "metadata": {
        "colab": {
          "base_uri": "https://localhost:8080/"
        },
        "id": "OFeJ_oZGX08a",
        "outputId": "c4c884ee-1c7e-4713-ca8c-cf482df13ca9"
      },
      "execution_count": null,
      "outputs": [
        {
          "output_type": "stream",
          "name": "stdout",
          "text": [
            "LinearRegression()\n"
          ]
        }
      ]
    },
    {
      "cell_type": "code",
      "source": [
        "X = df[['GDP_dollar']] # ทำให้ส่งค่าเป็นแบบ dataframe => Array 2 มิติ\n",
        "y = df.dollar_price # ทำให้ส่งค่าเป็นแบบ series => 1 มิติ\n",
        "print(X, y)"
      ],
      "metadata": {
        "id": "VyoKwMsDYDLQ"
      },
      "execution_count": null,
      "outputs": []
    },
    {
      "cell_type": "code",
      "source": [
        "model.fit(X, y) # X ต้องเป็น Array 2D ส่วน y ต้องเป็น Array 1D"
      ],
      "metadata": {
        "id": "Y3I_awf3ZtI4"
      },
      "execution_count": null,
      "outputs": []
    },
    {
      "cell_type": "code",
      "source": [
        "model.score(X, y) # R-squared"
      ],
      "metadata": {
        "colab": {
          "base_uri": "https://localhost:8080/"
        },
        "id": "hWk7x-u8aJxA",
        "outputId": "e7fb7904-059b-4782-c84f-728d145ec62e"
      },
      "execution_count": null,
      "outputs": [
        {
          "output_type": "execute_result",
          "data": {
            "text/plain": [
              "0.6312750690042255"
            ]
          },
          "metadata": {},
          "execution_count": 36
        }
      ]
    },
    {
      "cell_type": "code",
      "source": [
        "model.intercept_"
      ],
      "metadata": {
        "colab": {
          "base_uri": "https://localhost:8080/"
        },
        "id": "ac2iTjpEgcCi",
        "outputId": "bfc96d96-b7f5-4a35-d0a6-ae75aacddda7"
      },
      "execution_count": null,
      "outputs": [
        {
          "output_type": "execute_result",
          "data": {
            "text/plain": [
              "2.432727161471293"
            ]
          },
          "metadata": {},
          "execution_count": 40
        }
      ]
    },
    {
      "cell_type": "code",
      "source": [
        "model.coef_"
      ],
      "metadata": {
        "id": "UNbEE7oNgegR"
      },
      "execution_count": null,
      "outputs": []
    },
    {
      "cell_type": "markdown",
      "source": [
        "***y = α + βx***"
      ],
      "metadata": {
        "id": "5XM1x0Amgczs"
      }
    },
    {
      "cell_type": "code",
      "source": [
        "model.intercept_ + model.coef_ * 9000"
      ],
      "metadata": {
        "colab": {
          "base_uri": "https://localhost:8080/"
        },
        "id": "aFLO7Z5Og9Pw",
        "outputId": "481d1b82-219e-458a-9e0d-327e1d724c71"
      },
      "execution_count": null,
      "outputs": [
        {
          "output_type": "execute_result",
          "data": {
            "text/plain": [
              "array([2.82599241])"
            ]
          },
          "metadata": {},
          "execution_count": 38
        }
      ]
    },
    {
      "cell_type": "code",
      "source": [
        "model.predict([[9000]]) # สิ่งที่สามารถผ่านค่าเข้าไปต้องเป็น Array 2D"
      ],
      "metadata": {
        "id": "1J4aRl0Dh_lI"
      },
      "execution_count": null,
      "outputs": []
    },
    {
      "cell_type": "code",
      "source": [
        "model.predict([ [9000],\n",
        "                [40000] ])"
      ],
      "metadata": {
        "id": "1lO87Qt0ib76"
      },
      "execution_count": null,
      "outputs": []
    },
    {
      "cell_type": "markdown",
      "source": [
        "predict ด้วยข้อมูลจาก numpy"
      ],
      "metadata": {
        "id": "JCimtaL2jiSS"
      }
    },
    {
      "cell_type": "code",
      "source": [
        "np.arange(5000, 50001, 2500) # 1D"
      ],
      "metadata": {
        "colab": {
          "base_uri": "https://localhost:8080/"
        },
        "id": "mNkXPBQkjDTB",
        "outputId": "2e47e148-545e-4dc1-9b7d-71d055a373ff"
      },
      "execution_count": null,
      "outputs": [
        {
          "output_type": "execute_result",
          "data": {
            "text/plain": [
              "array([ 5000,  7500, 10000, 12500, 15000, 17500, 20000, 22500, 25000,\n",
              "       27500, 30000, 32500, 35000, 37500, 40000, 42500, 45000, 47500,\n",
              "       50000])"
            ]
          },
          "metadata": {},
          "execution_count": 44
        }
      ]
    },
    {
      "cell_type": "code",
      "source": [
        "np.arange(5000, 50001, 2500).reshape(-1, 1) # 2D"
      ],
      "metadata": {
        "id": "-0vGGkO_jpWy"
      },
      "execution_count": null,
      "outputs": []
    },
    {
      "cell_type": "code",
      "source": [
        "model.predict(np.arange(5000, 50001, 2500).reshape(-1, 1))"
      ],
      "metadata": {
        "colab": {
          "base_uri": "https://localhost:8080/"
        },
        "id": "Ybc2rkwFjwZC",
        "outputId": "a9a8f911-f7a5-4ab7-f123-c222bac61e2c"
      },
      "execution_count": null,
      "outputs": [
        {
          "output_type": "stream",
          "name": "stderr",
          "text": [
            "/usr/local/lib/python3.10/dist-packages/sklearn/base.py:439: UserWarning: X does not have valid feature names, but LinearRegression was fitted with feature names\n",
            "  warnings.warn(\n"
          ]
        },
        {
          "output_type": "execute_result",
          "data": {
            "text/plain": [
              "array([2.65120785, 2.7604482 , 2.86968854, 2.97892889, 3.08816924,\n",
              "       3.19740958, 3.30664993, 3.41589027, 3.52513062, 3.63437096,\n",
              "       3.74361131, 3.85285166, 3.962092  , 4.07133235, 4.18057269,\n",
              "       4.28981304, 4.39905338, 4.50829373, 4.61753407])"
            ]
          },
          "metadata": {},
          "execution_count": 46
        }
      ]
    },
    {
      "cell_type": "code",
      "source": [
        "np.linspace(5000, 50000, 20)"
      ],
      "metadata": {
        "colab": {
          "base_uri": "https://localhost:8080/"
        },
        "id": "ZZNKo4H7jySS",
        "outputId": "5a3fb523-6b98-4bf4-eba4-e408445071f7"
      },
      "execution_count": null,
      "outputs": [
        {
          "output_type": "execute_result",
          "data": {
            "text/plain": [
              "array([ 5000.        ,  7368.42105263,  9736.84210526, 12105.26315789,\n",
              "       14473.68421053, 16842.10526316, 19210.52631579, 21578.94736842,\n",
              "       23947.36842105, 26315.78947368, 28684.21052632, 31052.63157895,\n",
              "       33421.05263158, 35789.47368421, 38157.89473684, 40526.31578947,\n",
              "       42894.73684211, 45263.15789474, 47631.57894737, 50000.        ])"
            ]
          },
          "metadata": {},
          "execution_count": 47
        }
      ]
    },
    {
      "cell_type": "code",
      "source": [
        "np.linspace(5000, 50000, 20).reshape(-1, 1)"
      ],
      "metadata": {
        "colab": {
          "base_uri": "https://localhost:8080/"
        },
        "id": "tdedBwKrjz3T",
        "outputId": "770f9478-78a7-49f6-a460-17fa1a6b1598"
      },
      "execution_count": null,
      "outputs": [
        {
          "output_type": "execute_result",
          "data": {
            "text/plain": [
              "array([[ 5000.        ],\n",
              "       [ 7368.42105263],\n",
              "       [ 9736.84210526],\n",
              "       [12105.26315789],\n",
              "       [14473.68421053],\n",
              "       [16842.10526316],\n",
              "       [19210.52631579],\n",
              "       [21578.94736842],\n",
              "       [23947.36842105],\n",
              "       [26315.78947368],\n",
              "       [28684.21052632],\n",
              "       [31052.63157895],\n",
              "       [33421.05263158],\n",
              "       [35789.47368421],\n",
              "       [38157.89473684],\n",
              "       [40526.31578947],\n",
              "       [42894.73684211],\n",
              "       [45263.15789474],\n",
              "       [47631.57894737],\n",
              "       [50000.        ]])"
            ]
          },
          "metadata": {},
          "execution_count": 48
        }
      ]
    },
    {
      "cell_type": "code",
      "source": [
        "model.predict(np.linspace(5000, 50000, 20).reshape(-1, 1))"
      ],
      "metadata": {
        "colab": {
          "base_uri": "https://localhost:8080/"
        },
        "id": "daYSnbnVj1bZ",
        "outputId": "f08ee335-e281-4d6d-bae8-5c9e4f743f57"
      },
      "execution_count": null,
      "outputs": [
        {
          "output_type": "stream",
          "name": "stderr",
          "text": [
            "/usr/local/lib/python3.10/dist-packages/sklearn/base.py:439: UserWarning: X does not have valid feature names, but LinearRegression was fitted with feature names\n",
            "  warnings.warn(\n"
          ]
        },
        {
          "output_type": "execute_result",
          "data": {
            "text/plain": [
              "array([2.65120785, 2.75469871, 2.85818956, 2.96168041, 3.06517127,\n",
              "       3.16866212, 3.27215298, 3.37564383, 3.47913468, 3.58262554,\n",
              "       3.68611639, 3.78960724, 3.8930981 , 3.99658895, 4.10007981,\n",
              "       4.20357066, 4.30706151, 4.41055237, 4.51404322, 4.61753407])"
            ]
          },
          "metadata": {},
          "execution_count": 49
        }
      ]
    },
    {
      "cell_type": "code",
      "source": [
        "s = pd.Series(np.linspace(5000, 50000, 20))\n",
        "s"
      ],
      "metadata": {
        "id": "enHfPvhgj1TJ"
      },
      "execution_count": null,
      "outputs": []
    },
    {
      "cell_type": "code",
      "source": [
        "model.predict(s.to_frame())"
      ],
      "metadata": {
        "colab": {
          "base_uri": "https://localhost:8080/"
        },
        "id": "g-8Je4smkNKh",
        "outputId": "789e961c-26f1-4d52-a29f-7de3de01ade4"
      },
      "execution_count": null,
      "outputs": [
        {
          "output_type": "stream",
          "name": "stderr",
          "text": [
            "/usr/local/lib/python3.10/dist-packages/sklearn/base.py:439: UserWarning: X does not have valid feature names, but LinearRegression was fitted with feature names\n",
            "  warnings.warn(\n"
          ]
        },
        {
          "output_type": "execute_result",
          "data": {
            "text/plain": [
              "array([2.65120785, 2.75469871, 2.85818956, 2.96168041, 3.06517127,\n",
              "       3.16866212, 3.27215298, 3.37564383, 3.47913468, 3.58262554,\n",
              "       3.68611639, 3.78960724, 3.8930981 , 3.99658895, 4.10007981,\n",
              "       4.20357066, 4.30706151, 4.41055237, 4.51404322, 4.61753407])"
            ]
          },
          "metadata": {},
          "execution_count": 51
        }
      ]
    },
    {
      "cell_type": "code",
      "source": [
        "dx = pd.DataFrame(np.linspace(5000, 50000, 20), columns=['GDP_dollar'])\n",
        "dx"
      ],
      "metadata": {
        "colab": {
          "base_uri": "https://localhost:8080/",
          "height": 677
        },
        "id": "aCirDgWnkRtR",
        "outputId": "eac6c200-c1e5-4ad5-a13c-5c3c67e8f881"
      },
      "execution_count": null,
      "outputs": [
        {
          "output_type": "execute_result",
          "data": {
            "text/plain": [
              "      GDP_dollar\n",
              "0    5000.000000\n",
              "1    7368.421053\n",
              "2    9736.842105\n",
              "3   12105.263158\n",
              "4   14473.684211\n",
              "5   16842.105263\n",
              "6   19210.526316\n",
              "7   21578.947368\n",
              "8   23947.368421\n",
              "9   26315.789474\n",
              "10  28684.210526\n",
              "11  31052.631579\n",
              "12  33421.052632\n",
              "13  35789.473684\n",
              "14  38157.894737\n",
              "15  40526.315789\n",
              "16  42894.736842\n",
              "17  45263.157895\n",
              "18  47631.578947\n",
              "19  50000.000000"
            ],
            "text/html": [
              "\n",
              "  <div id=\"df-114bcae3-b9a7-48a1-9e07-d7484eb16243\" class=\"colab-df-container\">\n",
              "    <div>\n",
              "<style scoped>\n",
              "    .dataframe tbody tr th:only-of-type {\n",
              "        vertical-align: middle;\n",
              "    }\n",
              "\n",
              "    .dataframe tbody tr th {\n",
              "        vertical-align: top;\n",
              "    }\n",
              "\n",
              "    .dataframe thead th {\n",
              "        text-align: right;\n",
              "    }\n",
              "</style>\n",
              "<table border=\"1\" class=\"dataframe\">\n",
              "  <thead>\n",
              "    <tr style=\"text-align: right;\">\n",
              "      <th></th>\n",
              "      <th>GDP_dollar</th>\n",
              "    </tr>\n",
              "  </thead>\n",
              "  <tbody>\n",
              "    <tr>\n",
              "      <th>0</th>\n",
              "      <td>5000.000000</td>\n",
              "    </tr>\n",
              "    <tr>\n",
              "      <th>1</th>\n",
              "      <td>7368.421053</td>\n",
              "    </tr>\n",
              "    <tr>\n",
              "      <th>2</th>\n",
              "      <td>9736.842105</td>\n",
              "    </tr>\n",
              "    <tr>\n",
              "      <th>3</th>\n",
              "      <td>12105.263158</td>\n",
              "    </tr>\n",
              "    <tr>\n",
              "      <th>4</th>\n",
              "      <td>14473.684211</td>\n",
              "    </tr>\n",
              "    <tr>\n",
              "      <th>5</th>\n",
              "      <td>16842.105263</td>\n",
              "    </tr>\n",
              "    <tr>\n",
              "      <th>6</th>\n",
              "      <td>19210.526316</td>\n",
              "    </tr>\n",
              "    <tr>\n",
              "      <th>7</th>\n",
              "      <td>21578.947368</td>\n",
              "    </tr>\n",
              "    <tr>\n",
              "      <th>8</th>\n",
              "      <td>23947.368421</td>\n",
              "    </tr>\n",
              "    <tr>\n",
              "      <th>9</th>\n",
              "      <td>26315.789474</td>\n",
              "    </tr>\n",
              "    <tr>\n",
              "      <th>10</th>\n",
              "      <td>28684.210526</td>\n",
              "    </tr>\n",
              "    <tr>\n",
              "      <th>11</th>\n",
              "      <td>31052.631579</td>\n",
              "    </tr>\n",
              "    <tr>\n",
              "      <th>12</th>\n",
              "      <td>33421.052632</td>\n",
              "    </tr>\n",
              "    <tr>\n",
              "      <th>13</th>\n",
              "      <td>35789.473684</td>\n",
              "    </tr>\n",
              "    <tr>\n",
              "      <th>14</th>\n",
              "      <td>38157.894737</td>\n",
              "    </tr>\n",
              "    <tr>\n",
              "      <th>15</th>\n",
              "      <td>40526.315789</td>\n",
              "    </tr>\n",
              "    <tr>\n",
              "      <th>16</th>\n",
              "      <td>42894.736842</td>\n",
              "    </tr>\n",
              "    <tr>\n",
              "      <th>17</th>\n",
              "      <td>45263.157895</td>\n",
              "    </tr>\n",
              "    <tr>\n",
              "      <th>18</th>\n",
              "      <td>47631.578947</td>\n",
              "    </tr>\n",
              "    <tr>\n",
              "      <th>19</th>\n",
              "      <td>50000.000000</td>\n",
              "    </tr>\n",
              "  </tbody>\n",
              "</table>\n",
              "</div>\n",
              "    <div class=\"colab-df-buttons\">\n",
              "\n",
              "  <div class=\"colab-df-container\">\n",
              "    <button class=\"colab-df-convert\" onclick=\"convertToInteractive('df-114bcae3-b9a7-48a1-9e07-d7484eb16243')\"\n",
              "            title=\"Convert this dataframe to an interactive table.\"\n",
              "            style=\"display:none;\">\n",
              "\n",
              "  <svg xmlns=\"http://www.w3.org/2000/svg\" height=\"24px\" viewBox=\"0 -960 960 960\">\n",
              "    <path d=\"M120-120v-720h720v720H120Zm60-500h600v-160H180v160Zm220 220h160v-160H400v160Zm0 220h160v-160H400v160ZM180-400h160v-160H180v160Zm440 0h160v-160H620v160ZM180-180h160v-160H180v160Zm440 0h160v-160H620v160Z\"/>\n",
              "  </svg>\n",
              "    </button>\n",
              "\n",
              "  <style>\n",
              "    .colab-df-container {\n",
              "      display:flex;\n",
              "      gap: 12px;\n",
              "    }\n",
              "\n",
              "    .colab-df-convert {\n",
              "      background-color: #E8F0FE;\n",
              "      border: none;\n",
              "      border-radius: 50%;\n",
              "      cursor: pointer;\n",
              "      display: none;\n",
              "      fill: #1967D2;\n",
              "      height: 32px;\n",
              "      padding: 0 0 0 0;\n",
              "      width: 32px;\n",
              "    }\n",
              "\n",
              "    .colab-df-convert:hover {\n",
              "      background-color: #E2EBFA;\n",
              "      box-shadow: 0px 1px 2px rgba(60, 64, 67, 0.3), 0px 1px 3px 1px rgba(60, 64, 67, 0.15);\n",
              "      fill: #174EA6;\n",
              "    }\n",
              "\n",
              "    .colab-df-buttons div {\n",
              "      margin-bottom: 4px;\n",
              "    }\n",
              "\n",
              "    [theme=dark] .colab-df-convert {\n",
              "      background-color: #3B4455;\n",
              "      fill: #D2E3FC;\n",
              "    }\n",
              "\n",
              "    [theme=dark] .colab-df-convert:hover {\n",
              "      background-color: #434B5C;\n",
              "      box-shadow: 0px 1px 3px 1px rgba(0, 0, 0, 0.15);\n",
              "      filter: drop-shadow(0px 1px 2px rgba(0, 0, 0, 0.3));\n",
              "      fill: #FFFFFF;\n",
              "    }\n",
              "  </style>\n",
              "\n",
              "    <script>\n",
              "      const buttonEl =\n",
              "        document.querySelector('#df-114bcae3-b9a7-48a1-9e07-d7484eb16243 button.colab-df-convert');\n",
              "      buttonEl.style.display =\n",
              "        google.colab.kernel.accessAllowed ? 'block' : 'none';\n",
              "\n",
              "      async function convertToInteractive(key) {\n",
              "        const element = document.querySelector('#df-114bcae3-b9a7-48a1-9e07-d7484eb16243');\n",
              "        const dataTable =\n",
              "          await google.colab.kernel.invokeFunction('convertToInteractive',\n",
              "                                                    [key], {});\n",
              "        if (!dataTable) return;\n",
              "\n",
              "        const docLinkHtml = 'Like what you see? Visit the ' +\n",
              "          '<a target=\"_blank\" href=https://colab.research.google.com/notebooks/data_table.ipynb>data table notebook</a>'\n",
              "          + ' to learn more about interactive tables.';\n",
              "        element.innerHTML = '';\n",
              "        dataTable['output_type'] = 'display_data';\n",
              "        await google.colab.output.renderOutput(dataTable, element);\n",
              "        const docLink = document.createElement('div');\n",
              "        docLink.innerHTML = docLinkHtml;\n",
              "        element.appendChild(docLink);\n",
              "      }\n",
              "    </script>\n",
              "  </div>\n",
              "\n",
              "\n",
              "<div id=\"df-ca43c79f-0ea8-4060-b2f3-cb2b04160e4d\">\n",
              "  <button class=\"colab-df-quickchart\" onclick=\"quickchart('df-ca43c79f-0ea8-4060-b2f3-cb2b04160e4d')\"\n",
              "            title=\"Suggest charts.\"\n",
              "            style=\"display:none;\">\n",
              "\n",
              "<svg xmlns=\"http://www.w3.org/2000/svg\" height=\"24px\"viewBox=\"0 0 24 24\"\n",
              "     width=\"24px\">\n",
              "    <g>\n",
              "        <path d=\"M19 3H5c-1.1 0-2 .9-2 2v14c0 1.1.9 2 2 2h14c1.1 0 2-.9 2-2V5c0-1.1-.9-2-2-2zM9 17H7v-7h2v7zm4 0h-2V7h2v10zm4 0h-2v-4h2v4z\"/>\n",
              "    </g>\n",
              "</svg>\n",
              "  </button>\n",
              "\n",
              "<style>\n",
              "  .colab-df-quickchart {\n",
              "      --bg-color: #E8F0FE;\n",
              "      --fill-color: #1967D2;\n",
              "      --hover-bg-color: #E2EBFA;\n",
              "      --hover-fill-color: #174EA6;\n",
              "      --disabled-fill-color: #AAA;\n",
              "      --disabled-bg-color: #DDD;\n",
              "  }\n",
              "\n",
              "  [theme=dark] .colab-df-quickchart {\n",
              "      --bg-color: #3B4455;\n",
              "      --fill-color: #D2E3FC;\n",
              "      --hover-bg-color: #434B5C;\n",
              "      --hover-fill-color: #FFFFFF;\n",
              "      --disabled-bg-color: #3B4455;\n",
              "      --disabled-fill-color: #666;\n",
              "  }\n",
              "\n",
              "  .colab-df-quickchart {\n",
              "    background-color: var(--bg-color);\n",
              "    border: none;\n",
              "    border-radius: 50%;\n",
              "    cursor: pointer;\n",
              "    display: none;\n",
              "    fill: var(--fill-color);\n",
              "    height: 32px;\n",
              "    padding: 0;\n",
              "    width: 32px;\n",
              "  }\n",
              "\n",
              "  .colab-df-quickchart:hover {\n",
              "    background-color: var(--hover-bg-color);\n",
              "    box-shadow: 0 1px 2px rgba(60, 64, 67, 0.3), 0 1px 3px 1px rgba(60, 64, 67, 0.15);\n",
              "    fill: var(--button-hover-fill-color);\n",
              "  }\n",
              "\n",
              "  .colab-df-quickchart-complete:disabled,\n",
              "  .colab-df-quickchart-complete:disabled:hover {\n",
              "    background-color: var(--disabled-bg-color);\n",
              "    fill: var(--disabled-fill-color);\n",
              "    box-shadow: none;\n",
              "  }\n",
              "\n",
              "  .colab-df-spinner {\n",
              "    border: 2px solid var(--fill-color);\n",
              "    border-color: transparent;\n",
              "    border-bottom-color: var(--fill-color);\n",
              "    animation:\n",
              "      spin 1s steps(1) infinite;\n",
              "  }\n",
              "\n",
              "  @keyframes spin {\n",
              "    0% {\n",
              "      border-color: transparent;\n",
              "      border-bottom-color: var(--fill-color);\n",
              "      border-left-color: var(--fill-color);\n",
              "    }\n",
              "    20% {\n",
              "      border-color: transparent;\n",
              "      border-left-color: var(--fill-color);\n",
              "      border-top-color: var(--fill-color);\n",
              "    }\n",
              "    30% {\n",
              "      border-color: transparent;\n",
              "      border-left-color: var(--fill-color);\n",
              "      border-top-color: var(--fill-color);\n",
              "      border-right-color: var(--fill-color);\n",
              "    }\n",
              "    40% {\n",
              "      border-color: transparent;\n",
              "      border-right-color: var(--fill-color);\n",
              "      border-top-color: var(--fill-color);\n",
              "    }\n",
              "    60% {\n",
              "      border-color: transparent;\n",
              "      border-right-color: var(--fill-color);\n",
              "    }\n",
              "    80% {\n",
              "      border-color: transparent;\n",
              "      border-right-color: var(--fill-color);\n",
              "      border-bottom-color: var(--fill-color);\n",
              "    }\n",
              "    90% {\n",
              "      border-color: transparent;\n",
              "      border-bottom-color: var(--fill-color);\n",
              "    }\n",
              "  }\n",
              "</style>\n",
              "\n",
              "  <script>\n",
              "    async function quickchart(key) {\n",
              "      const quickchartButtonEl =\n",
              "        document.querySelector('#' + key + ' button');\n",
              "      quickchartButtonEl.disabled = true;  // To prevent multiple clicks.\n",
              "      quickchartButtonEl.classList.add('colab-df-spinner');\n",
              "      try {\n",
              "        const charts = await google.colab.kernel.invokeFunction(\n",
              "            'suggestCharts', [key], {});\n",
              "      } catch (error) {\n",
              "        console.error('Error during call to suggestCharts:', error);\n",
              "      }\n",
              "      quickchartButtonEl.classList.remove('colab-df-spinner');\n",
              "      quickchartButtonEl.classList.add('colab-df-quickchart-complete');\n",
              "    }\n",
              "    (() => {\n",
              "      let quickchartButtonEl =\n",
              "        document.querySelector('#df-ca43c79f-0ea8-4060-b2f3-cb2b04160e4d button');\n",
              "      quickchartButtonEl.style.display =\n",
              "        google.colab.kernel.accessAllowed ? 'block' : 'none';\n",
              "    })();\n",
              "  </script>\n",
              "</div>\n",
              "    </div>\n",
              "  </div>\n"
            ]
          },
          "metadata": {},
          "execution_count": 56
        }
      ]
    },
    {
      "cell_type": "code",
      "source": [
        "model.predict(dx)"
      ],
      "metadata": {
        "colab": {
          "base_uri": "https://localhost:8080/"
        },
        "id": "5HRpHNLIkVTh",
        "outputId": "af65199a-f761-4fbe-92e8-7d0758a93a72"
      },
      "execution_count": null,
      "outputs": [
        {
          "output_type": "execute_result",
          "data": {
            "text/plain": [
              "array([2.65120785, 2.75469871, 2.85818956, 2.96168041, 3.06517127,\n",
              "       3.16866212, 3.27215298, 3.37564383, 3.47913468, 3.58262554,\n",
              "       3.68611639, 3.78960724, 3.8930981 , 3.99658895, 4.10007981,\n",
              "       4.20357066, 4.30706151, 4.41055237, 4.51404322, 4.61753407])"
            ]
          },
          "metadata": {},
          "execution_count": 57
        }
      ]
    },
    {
      "cell_type": "markdown",
      "source": [
        "## Statsmodels: Simple Linear regression"
      ],
      "metadata": {
        "id": "VXn7QqGYkZwa"
      }
    },
    {
      "cell_type": "code",
      "source": [
        "import statsmodels.api as sm\n",
        "import statsmodels.formula.api as smf"
      ],
      "metadata": {
        "id": "kin-dn9jkako"
      },
      "execution_count": null,
      "outputs": []
    },
    {
      "cell_type": "code",
      "source": [
        "# formula: response ~ predictor1 + predictor2\n",
        "model_a = smf.ols(formula='dollar_price ~ GDP_dollar', data=df).fit()"
      ],
      "metadata": {
        "id": "UU4Dz-a0kge4"
      },
      "execution_count": null,
      "outputs": []
    },
    {
      "cell_type": "code",
      "source": [
        "model_a.summary()"
      ],
      "metadata": {
        "id": "fYLBF48Lkipz"
      },
      "execution_count": null,
      "outputs": []
    },
    {
      "cell_type": "code",
      "source": [
        "print(model_a.summary())"
      ],
      "metadata": {
        "id": "mXXnCrdbkkJK"
      },
      "execution_count": null,
      "outputs": []
    },
    {
      "cell_type": "code",
      "source": [
        "model_a.pvalues"
      ],
      "metadata": {
        "id": "0nUgfXfNkl6h"
      },
      "execution_count": null,
      "outputs": []
    },
    {
      "cell_type": "code",
      "source": [
        "model.intercept_ # sklearn"
      ],
      "metadata": {
        "id": "qMGoM8sWknnJ"
      },
      "execution_count": null,
      "outputs": []
    },
    {
      "cell_type": "code",
      "source": [
        "model.coef_"
      ],
      "metadata": {
        "id": "j77S3jwIkolz"
      },
      "execution_count": null,
      "outputs": []
    },
    {
      "cell_type": "code",
      "source": [
        "print(f'{model.coef_[0]:.7f}')"
      ],
      "metadata": {
        "id": "y705_7_QkpnI"
      },
      "execution_count": null,
      "outputs": []
    },
    {
      "cell_type": "markdown",
      "source": [
        "## train-test-split"
      ],
      "metadata": {
        "id": "C3BVpgLlkrAO"
      }
    },
    {
      "cell_type": "code",
      "source": [
        "from sklearn.model_selection import train_test_split"
      ],
      "metadata": {
        "id": "9vDlkf-vktdp"
      },
      "execution_count": null,
      "outputs": []
    },
    {
      "cell_type": "code",
      "source": [
        "len(df)"
      ],
      "metadata": {
        "id": "TsmvVH8Okukk"
      },
      "execution_count": null,
      "outputs": []
    },
    {
      "cell_type": "code",
      "source": [
        "X_train, X_test, y_train, y_test = train_test_split(X, y,\n",
        "                                                    test_size=0.3)"
      ],
      "metadata": {
        "id": "G4mISwoekvsY"
      },
      "execution_count": null,
      "outputs": []
    },
    {
      "cell_type": "code",
      "source": [
        "model.fit(X_train, y_train) # step 2: fitting model"
      ],
      "metadata": {
        "id": "uO5XqP5SkyJq"
      },
      "execution_count": null,
      "outputs": []
    },
    {
      "cell_type": "code",
      "source": [
        "model.score(X_test, y_test) # step 3: model scoring"
      ],
      "metadata": {
        "id": "vakqklXEkzOk"
      },
      "execution_count": null,
      "outputs": []
    },
    {
      "cell_type": "code",
      "source": [
        "# step 4: predicting\n",
        "model.predict([\n",
        "    [10000],\n",
        "    [20000],\n",
        "    [25000]\n",
        "]) # numpy array: X 2-dim array"
      ],
      "metadata": {
        "id": "y493k8alk0fZ"
      },
      "execution_count": null,
      "outputs": []
    },
    {
      "cell_type": "code",
      "source": [
        "model.intercept_"
      ],
      "metadata": {
        "id": "Rz_QAQC0k1yV"
      },
      "execution_count": null,
      "outputs": []
    },
    {
      "cell_type": "code",
      "source": [
        "model.coef_"
      ],
      "metadata": {
        "id": "_l7_J_rJk2t0"
      },
      "execution_count": null,
      "outputs": []
    },
    {
      "cell_type": "code",
      "source": [
        "model.intercept_ + model.coef_ * 9000"
      ],
      "metadata": {
        "id": "tJ6xLb2zk5FK"
      },
      "execution_count": null,
      "outputs": []
    },
    {
      "cell_type": "code",
      "source": [
        "model.predict([[9000]]) # 2D array"
      ],
      "metadata": {
        "id": "k8EbSEVvk6CA"
      },
      "execution_count": null,
      "outputs": []
    },
    {
      "cell_type": "code",
      "source": [
        "model.predict([[9000],\n",
        "               [40000]])"
      ],
      "metadata": {
        "id": "9_UEXbI7k7CR"
      },
      "execution_count": null,
      "outputs": []
    },
    {
      "cell_type": "code",
      "source": [
        "np.arange(5000, 50001, 2500)"
      ],
      "metadata": {
        "id": "b_dExXtGk8Rc"
      },
      "execution_count": null,
      "outputs": []
    },
    {
      "cell_type": "code",
      "source": [
        "np.arange(5000, 50001, 2500).reshape(-1, 1) # 2D"
      ],
      "metadata": {
        "id": "lHJ8euwYk9bE"
      },
      "execution_count": null,
      "outputs": []
    },
    {
      "cell_type": "code",
      "source": [
        "model.predict(np.arange(5000, 50001, 2500).reshape(-1, 1))"
      ],
      "metadata": {
        "id": "-oSSl3_wk-h3"
      },
      "execution_count": null,
      "outputs": []
    },
    {
      "cell_type": "code",
      "source": [
        "np.linspace(5000, 50000, 20)"
      ],
      "metadata": {
        "id": "AXv2Jnpyk_iQ"
      },
      "execution_count": null,
      "outputs": []
    },
    {
      "cell_type": "code",
      "source": [
        "np.linspace(5000, 50000, 20).reshape(-1, 1)"
      ],
      "metadata": {
        "id": "0CK_U9YxlAmk"
      },
      "execution_count": null,
      "outputs": []
    },
    {
      "cell_type": "code",
      "source": [
        "model.predict(np.linspace(5000, 50000, 20).reshape(-1, 1))"
      ],
      "metadata": {
        "id": "7CZd7UdrlB9m"
      },
      "execution_count": null,
      "outputs": []
    },
    {
      "cell_type": "code",
      "source": [
        "s = pd.Series(np.linspace(5000, 50000, 20))\n",
        "s"
      ],
      "metadata": {
        "id": "82Gto5__lDJy"
      },
      "execution_count": null,
      "outputs": []
    },
    {
      "cell_type": "code",
      "source": [
        "model.predict(s.to_frame())"
      ],
      "metadata": {
        "id": "G-YHbOXwlERs"
      },
      "execution_count": null,
      "outputs": []
    },
    {
      "cell_type": "code",
      "source": [
        "dx = pd.DataFrame(np.linspace(5000, 50000, 20), columns=['gdp'])\n",
        "dx"
      ],
      "metadata": {
        "id": "sdgsijxnlFbn"
      },
      "execution_count": null,
      "outputs": []
    },
    {
      "cell_type": "code",
      "source": [
        "model.predict(dx)"
      ],
      "metadata": {
        "id": "6BYYDF5JlIJH"
      },
      "execution_count": null,
      "outputs": []
    }
  ]
}