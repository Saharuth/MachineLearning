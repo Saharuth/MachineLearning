{
 "cells": [
  {
   "cell_type": "markdown",
   "metadata": {
    "colab_type": "text",
    "id": "w18VoqIoBYRY"
   },
   "source": [
    "---\n",
    "\n",
    "# โจทย์ทดสอบ Linear Regression #1 (เฉลย)\n",
    "\n",
    "---"
   ]
  },
  {
   "cell_type": "markdown",
   "metadata": {
    "colab_type": "text",
    "id": "m0--PXvg-oJb"
   },
   "source": [
    "สร้างข้อมูล / นำเข้าข้อมูล .. วันที่ x และ ราคาหุ้น y\n"
   ]
  },
  {
   "cell_type": "code",
   "execution_count": 1,
   "metadata": {
    "colab": {},
    "colab_type": "code",
    "id": "ClKwgF4Sw1nx"
   },
   "outputs": [],
   "source": [
    "import numpy as np\n",
    "\n",
    "x = np.array ([1,2,3,4,5,8,9,10,11,12,16,17,18,19,22,23,24,25,26])\n",
    "y = np.array ([750.46,784.5,770.22,722.81,703.87,667.85,672.32,686.86,675,690.26,692.98,699,710,695.03,707.45,701.45,688.92,700.01, 708.58])"
   ]
  },
  {
   "cell_type": "code",
   "execution_count": 2,
   "metadata": {
    "colab": {},
    "colab_type": "code",
    "id": "P1TLX0wsigvD"
   },
   "outputs": [],
   "source": [
    "x = x.reshape(-1, 1)"
   ]
  },
  {
   "cell_type": "markdown",
   "metadata": {
    "colab_type": "text",
    "id": "tKZIktpDB5gU"
   },
   "source": [
    "เรียกใช้ Library Matplotlib .. เพื่อแสดงผลข้อมูล"
   ]
  },
  {
   "cell_type": "code",
   "execution_count": 3,
   "metadata": {
    "colab": {},
    "colab_type": "code",
    "id": "F_1TzwHCBvnN"
   },
   "outputs": [],
   "source": [
    "import matplotlib.pyplot as plt"
   ]
  },
  {
   "cell_type": "code",
   "execution_count": 4,
   "metadata": {
    "colab": {
     "base_uri": "https://localhost:8080/",
     "height": 265
    },
    "colab_type": "code",
    "id": "12ICXnaFByO-",
    "outputId": "7c974d5f-5b02-421c-df42-64f51e7c7ebd"
   },
   "outputs": [
    {
     "data": {
      "image/png": "[encoded data removed]",
      "text/plain": [
       "<matplotlib.figure.Figure at 0x643d950>"
      ]
     },
     "metadata": {},
     "output_type": "display_data"
    }
   ],
   "source": [
    "plt.scatter(x, y, s = 80, marker='+')\n",
    "plt.show()"
   ]
  },
  {
   "cell_type": "markdown",
   "metadata": {
    "colab_type": "text",
    "id": "QHLg4_O9CMPr"
   },
   "source": [
    "จาก Library sklearn (หรือ scikit learn) เราจะเรียกใช้ Linear Regression"
   ]
  },
  {
   "cell_type": "code",
   "execution_count": 5,
   "metadata": {
    "colab": {},
    "colab_type": "code",
    "id": "3MUAMrrYB2VZ"
   },
   "outputs": [],
   "source": [
    "from sklearn.linear_model import LinearRegression"
   ]
  },
  {
   "cell_type": "code",
   "execution_count": 6,
   "metadata": {
    "colab": {},
    "colab_type": "code",
    "id": "QWL9KFeHCDaM"
   },
   "outputs": [],
   "source": [
    "LR = LinearRegression(normalize=True)"
   ]
  },
  {
   "cell_type": "markdown",
   "metadata": {
    "colab_type": "text",
    "id": "eXX_jGCDqlSx"
   },
   "source": [
    "ทำการ Train model ด้วยข้อมูล x, y"
   ]
  },
  {
   "cell_type": "code",
   "execution_count": 7,
   "metadata": {
    "colab": {
     "base_uri": "https://localhost:8080/",
     "height": 34
    },
    "colab_type": "code",
    "id": "HOLr8KMlqkca",
    "outputId": "b20f2070-7795-4353-dbb7-2e40235c328f"
   },
   "outputs": [
    {
     "data": {
      "text/plain": [
       "LinearRegression(copy_X=True, fit_intercept=True, n_jobs=None, normalize=True)"
      ]
     },
     "execution_count": 7,
     "metadata": {},
     "output_type": "execute_result"
    }
   ],
   "source": [
    "LR.fit(x, y)"
   ]
  },
  {
   "cell_type": "markdown",
   "metadata": {
    "colab_type": "text",
    "id": "N4ArTfGgDSok"
   },
   "source": [
    "ถึงตอนนี้ .. เราจะได้ Polynomial Model แล้ว ..\n",
    "\n",
    "วัดประสิทธิภาพของ Model"
   ]
  },
  {
   "cell_type": "code",
   "execution_count": 8,
   "metadata": {
    "colab": {},
    "colab_type": "code",
    "id": "CSBNrwtPDMbf"
   },
   "outputs": [],
   "source": [
    "y_pred = LR.predict(x)"
   ]
  },
  {
   "cell_type": "code",
   "execution_count": 9,
   "metadata": {
    "colab": {
     "base_uri": "https://localhost:8080/",
     "height": 51
    },
    "colab_type": "code",
    "id": "bEWZSXPDDX-2",
    "outputId": "e6aca263-6f6b-4504-a503-ab3995380fba"
   },
   "outputs": [
    {
     "name": "stdout",
     "output_type": "stream",
     "text": [
      "('RMSE (Root Mean Squared Error) = ', 27.103591303786889)\n",
      "('R2 = ', 0.19864465054518776)\n"
     ]
    }
   ],
   "source": [
    "from sklearn.metrics import mean_squared_error, r2_score\n",
    "\n",
    "rmse = np.sqrt(mean_squared_error(y, y_pred))\n",
    "print ('RMSE (Root Mean Squared Error) = ', rmse)\n",
    "\n",
    "r2 = r2_score(y, y_pred)\n",
    "print ('R2 = ', r2)"
   ]
  },
  {
   "cell_type": "markdown",
   "metadata": {
    "colab_type": "text",
    "id": "nMR1ib7K2ujd"
   },
   "source": [
    "กรณีต้องการแสดงผล Linear Regression Model (เส้นสีแดง) เปรียบเทียบกับข้อมูลจริง (สีน้ำเงิน)"
   ]
  },
  {
   "cell_type": "code",
   "execution_count": 12,
   "metadata": {
    "colab": {
     "base_uri": "https://localhost:8080/",
     "height": 265
    },
    "colab_type": "code",
    "id": "SP-INE_Hwa77",
    "outputId": "8b43f20a-7cf3-4161-ed47-cde77f728c8c"
   },
   "outputs": [
    {
     "data": {
      "image/png": "[encoded data removed]",
      "text/plain": [
       "<matplotlib.figure.Figure at 0xced6ab0>"
      ]
     },
     "metadata": {},
     "output_type": "display_data"
    }
   ],
   "source": [
    "# Plot ข้อมูล (x,y) \n",
    "plt.scatter(x, y, s = 80, marker = '+', label = 'Data')\n",
    "\n",
    "# Plot Linear Regression Model (x,y_pred)\n",
    "plt.plot(x, y_pred, linewidth = 4, color = 'r', label = 'Linear Regression Model')\n",
    "\n",
    "plt.legend(loc='upper right')\n",
    "plt.show()"
   ]
  },
  {
   "cell_type": "markdown",
   "metadata": {
    "colab_type": "text",
    "id": "UfYAi5SA8Mkv"
   },
   "source": [
    "************************************************************************\n",
    "จะเห็นว่า การใช้ Linear Regression ไม่สามารถ Fit กับข้อมูลราคาหุ้นชุดนี้ได้ดีนัก ค่า R2 = 0.19\n",
    "************************************************************************"
   ]
  },
  {
   "cell_type": "code",
   "execution_count": null,
   "metadata": {},
   "outputs": [],
   "source": []
  }
 ],
 "metadata": {
  "colab": {
   "name": "Linear_Regression_01.ipynb",
   "provenance": []
  },
  "kernelspec": {
   "display_name": "Python 3",
   "language": "python",
   "name": "python3"
  },
  "language_info": {
   "codemirror_mode": {
    "name": "ipython",
    "version": 3
   },
   "file_extension": ".py",
   "mimetype": "text/x-python",
   "name": "python",
   "nbconvert_exporter": "python",
   "pygments_lexer": "ipython3",
   "version": "3.8.3"
  }
 },
 "nbformat": 4,
 "nbformat_minor": 1
}
