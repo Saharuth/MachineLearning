{
  "nbformat": 4,
  "nbformat_minor": 0,
  "metadata": {
    "colab": {
      "provenance": [],
      "authorship_tag": "ABX9TyOtpra/4yG3tsoCzoj6wemv",
      "include_colab_link": true
    },
    "kernelspec": {
      "name": "python3",
      "display_name": "Python 3"
    },
    "language_info": {
      "name": "python"
    }
  },
  "cells": [
    {
      "cell_type": "markdown",
      "metadata": {
        "id": "view-in-github",
        "colab_type": "text"
      },
      "source": [
        "<a href=\"https://colab.research.google.com/github/Saharuth/MachineLearning/blob/main/regression_ex/linear_regression_01.ipynb\" target=\"_parent\"><img src=\"https://colab.research.google.com/assets/colab-badge.svg\" alt=\"Open In Colab\"/></a>"
      ]
    },
    {
      "cell_type": "code",
      "execution_count": null,
      "metadata": {
        "id": "FeoX3qf9Pciy",
        "colab": {
          "base_uri": "https://localhost:8080/"
        },
        "outputId": "7bc0b57c-efb3-4736-e3c0-f74141402d5e"
      },
      "outputs": [
        {
          "output_type": "stream",
          "name": "stdout",
          "text": [
            "[35 47 42 31 34 60 42 52 52 47 50 38 44 50 47 48 38 53 48 59]\n"
          ]
        }
      ],
      "source": [
        "import numpy as np\n",
        "\n",
        "x = np.array ([35,47,42,31,34,60,42,52,52,47,50,38,44,50,47,48,38,53,48,59])\n",
        "y = np.array ([2931,3975,3930,1856,3017,4178,3891,3885,3988,4024,3921,3560,3878,3791,3918,3939,3565,3970,3905,4130])\n",
        "print(x)"
      ]
    },
    {
      "cell_type": "code",
      "source": [
        "x = x.reshape(-1, 1)\n",
        "print(x)"
      ],
      "metadata": {
        "id": "GKPgZAV_oeBP"
      },
      "execution_count": null,
      "outputs": []
    },
    {
      "cell_type": "code",
      "source": [
        "import matplotlib.pyplot as plt"
      ],
      "metadata": {
        "id": "C9livbkbq7ja"
      },
      "execution_count": null,
      "outputs": []
    },
    {
      "cell_type": "code",
      "source": [
        "plt.scatter(x, y, s = 80, marker='+') # s => size\n",
        "plt.show()"
      ],
      "metadata": {
        "colab": {
          "base_uri": "https://localhost:8080/",
          "height": 430
        },
        "id": "C5PVegI7q9__",
        "outputId": "ac5ac98c-dd68-4082-a1d7-09bb52b5360a"
      },
      "execution_count": null,
      "outputs": [
        {
          "output_type": "display_data",
          "data": {
            "text/plain": [
              "<Figure size 640x480 with 1 Axes>"
            ],
            "image/png": "[encoded data removed]"
          },
          "metadata": {}
        }
      ]
    },
    {
      "cell_type": "code",
      "source": [
        "from sklearn.linear_model import LinearRegression"
      ],
      "metadata": {
        "id": "-kMxV3KSq_i_"
      },
      "execution_count": null,
      "outputs": []
    },
    {
      "cell_type": "code",
      "source": [
        "LR = LinearRegression()\n",
        "# LinearRegression(copy_X=True, fit_intercept=True, n_jobs=None, normalize=True)"
      ],
      "metadata": {
        "id": "KdddnnpCrLiE"
      },
      "execution_count": null,
      "outputs": []
    },
    {
      "cell_type": "markdown",
      "source": [
        "###ทำการ Train model ด้วยข้อมูล x, y"
      ],
      "metadata": {
        "id": "u-7NRlR0rRx2"
      }
    },
    {
      "cell_type": "code",
      "source": [
        "LR.fit(x, y)"
      ],
      "metadata": {
        "id": "v69ok2KmrUBo"
      },
      "execution_count": null,
      "outputs": []
    }
  ]
}