{
  "nbformat": 4,
  "nbformat_minor": 0,
  "metadata": {
    "colab": {
      "provenance": [],
      "authorship_tag": "ABX9TyOFabkwxshEO+Kg3rwdN2Bk",
      "include_colab_link": true
    },
    "kernelspec": {
      "name": "python3",
      "display_name": "Python 3"
    },
    "language_info": {
      "name": "python"
    }
  },
  "cells": [
    {
      "cell_type": "markdown",
      "metadata": {
        "id": "view-in-github",
        "colab_type": "text"
      },
      "source": [
        "<a href=\"https://colab.research.google.com/github/Saharuth/MachineLearning/blob/main/regression_ex/linear_regression_01.ipynb\" target=\"_parent\"><img src=\"https://colab.research.google.com/assets/colab-badge.svg\" alt=\"Open In Colab\"/></a>"
      ]
    },
    {
      "cell_type": "code",
      "execution_count": 1,
      "metadata": {
        "id": "FeoX3qf9Pciy",
        "colab": {
          "base_uri": "https://localhost:8080/"
        },
        "outputId": "7bc0b57c-efb3-4736-e3c0-f74141402d5e"
      },
      "outputs": [
        {
          "output_type": "stream",
          "name": "stdout",
          "text": [
            "[35 47 42 31 34 60 42 52 52 47 50 38 44 50 47 48 38 53 48 59]\n"
          ]
        }
      ],
      "source": [
        "import numpy as np\n",
        "\n",
        "x = np.array ([35,47,42,31,34,60,42,52,52,47,50,38,44,50,47,48,38,53,48,59])\n",
        "y = np.array ([2931,3975,3930,1856,3017,4178,3891,3885,3988,4024,3921,3560,3878,3791,3918,3939,3565,3970,3905,4130])\n",
        "print(x)"
      ]
    },
    {
      "cell_type": "code",
      "source": [
        "x = x.reshape(-1, 1)\n",
        "print(x)"
      ],
      "metadata": {
        "id": "GKPgZAV_oeBP"
      },
      "execution_count": null,
      "outputs": []
    }
  ]
}